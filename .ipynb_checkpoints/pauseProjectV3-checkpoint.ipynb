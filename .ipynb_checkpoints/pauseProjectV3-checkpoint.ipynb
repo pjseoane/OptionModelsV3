{
 "cells": [
  {
   "cell_type": "code",
   "execution_count": 1,
   "metadata": {},
   "outputs": [],
   "source": [
    "import sys\n",
    "sys.path.append('C:/Users/pauli/Dropbox/Python/OptionModels')\n",
    "sys.path.append('C:/Users/pauli/Dropbox/Python/OptionModels/Cython')\n",
    "sys.path.append('C:/Users/pseoane/Dropbox/Python/OptionModels')\n",
    "sys.path.append('C:/Users/pseoane/Dropbox/Python/OptionModels/Cython')\n",
    "sys.path.append('C:/Users/pseoane/Documents/Python Projects/OptionModels')\n",
    "sys.path.append('C:/Users/pauli/Documents/python/OptionsModelsV3')"
   ]
  },
  {
   "cell_type": "code",
   "execution_count": 2,
   "metadata": {},
   "outputs": [
    {
     "data": {
      "text/plain": [
       "(None, <pyximport.pyximport.PyxImporter at 0x1ef36d15c88>)"
      ]
     },
     "execution_count": 2,
     "metadata": {},
     "output_type": "execute_result"
    }
   ],
   "source": [
    "import pyximport,numpy\n",
    "#pyximport.install()\n",
    "pyximport.install(setup_args=dict(include_dirs=[numpy.get_include()]))"
   ]
  },
  {
   "cell_type": "code",
   "execution_count": 3,
   "metadata": {},
   "outputs": [],
   "source": [
    "from optionsMasterDefv3 import binomCRR3v2,binomCRR4v2,binomJRv2,blackScholesv2\n",
    "from binomialJarrowRudd import jarrowRudd\n",
    "from JarrowCython import jarrow_rudd"
   ]
  },
  {
   "cell_type": "code",
   "execution_count": 4,
   "metadata": {},
   "outputs": [],
   "source": [
    "contract=\"S\"\n",
    "underlying=100\n",
    "strike=100\n",
    "life=365\n",
    "vol=0.3\n",
    "rate=0.03\n",
    "div=0\n",
    "cp=-1\n",
    "american=True\n",
    "steps=100\n",
    "mkt=10"
   ]
  },
  {
   "cell_type": "code",
   "execution_count": 5,
   "metadata": {},
   "outputs": [
    {
     "name": "stdout",
     "output_type": "stream",
     "text": [
      "BS opt def      : [10.32786175 -0.40129367  0.01250801  0.38666812 -0.0117433  -0.50457229\n",
      "  0.29152085]\n"
     ]
    }
   ],
   "source": [
    "optBSdef=blackScholesv2(contract,underlying,strike,life,vol,rate,cp,div,6,mkt)\n",
    "print(\"BS opt def      :\", optBSdef)"
   ]
  },
  {
   "cell_type": "markdown",
   "metadata": {},
   "source": []
  },
  {
   "cell_type": "code",
   "execution_count": 7,
   "metadata": {},
   "outputs": [
    {
     "name": "stdout",
     "output_type": "stream",
     "text": [
      "[10.59171157 -0.4172115   0.01385343  0.38579795 -0.01278414 -0.37840981\n",
      "  0.28466846]\n",
      "[10.59171157 -0.41741922  0.01385343  0.38579795 -0.01278414 -0.37840981\n",
      "  0.28466846]\n",
      "[10.62768238 -0.41725858  0.01381081  0.39070831 -0.01100309 -0.40035656\n",
      "  0.28396796]\n",
      "[10.62768238 -0.41725858  0.01381081 -0.01100309]\n",
      "JR py [10.627682380924412, -0.417258583543725, 0.01381081026314037, 0.3907083070988584, -0.011003091681503112, -0.4003565610321118, 0.2839679640453774]\n"
     ]
    }
   ],
   "source": [
    "optCRR3v2=binomCRR3v2(contract,underlying,strike,life,vol,rate,cp,div,american,steps,6,mkt)\n",
    "optCRR4v2=binomCRR4v2(contract,underlying,strike,life,vol,rate,cp,div,american,steps,6,mkt)\n",
    "optJRv2=binomJRv2(contract,underlying,strike,life,vol,rate,cp,div,american,steps,6,mkt)\n",
    "optJRCy=jarrow_rudd(contract,underlying,strike,life,vol,rate,cp,american,steps)\n",
    "optJR=jarrowRudd(contract,underlying,strike,life,vol,rate,cp,american,steps,6,mkt)\n",
    "print(optCRR3v2)\n",
    "print(optCRR4v2)\n",
    "print (optJRv2)\n",
    "print(optJRCy)\n",
    "print(\"JR py\",optJR)\n",
    "\n"
   ]
  },
  {
   "cell_type": "heading",
   "level": 1,
   "metadata": {},
   "source": [
    "Analisis de diferencias entre BS y Binomiales Eurpean\n"
   ]
  },
  {
   "cell_type": "code",
   "execution_count": 7,
   "metadata": {},
   "outputs": [
    {
     "name": "stdout",
     "output_type": "stream",
     "text": [
      "-0.263849819775805\n",
      "-0.29982062819268407\n"
     ]
    }
   ],
   "source": [
    "print(optBSdef[0]-optCRR3v2[0])\n",
    "print(optBSdef[0]-optJRv2[0])"
   ]
  },
  {
   "cell_type": "code",
   "execution_count": 12,
   "metadata": {},
   "outputs": [
    {
     "name": "stdout",
     "output_type": "stream",
     "text": [
      "166 ms ± 8.75 ms per loop (mean ± std. dev. of 7 runs, 1 loop each)\n",
      "209 ms ± 17.6 ms per loop (mean ± std. dev. of 7 runs, 1 loop each)\n",
      "204 ms ± 10.1 ms per loop (mean ± std. dev. of 7 runs, 10 loops each)\n",
      "148 ms ± 9.99 ms per loop (mean ± std. dev. of 7 runs, 10 loops each)\n",
      "317 µs ± 11.8 µs per loop (mean ± std. dev. of 7 runs, 1000 loops each)\n"
     ]
    }
   ],
   "source": [
    "% timeit binomCRR3v2(contract,underlying,strike,life,vol,rate,cp,div,american,steps,6,mkt)\n",
    "% timeit binomCRR4v2(contract,underlying,strike,life,vol,rate,cp,div,american,steps,6,mkt)\n",
    "% timeit binomJRv2(contract,underlying,strike,life,vol,rate,cp,div,american,steps,6,mkt)\n",
    "% timeit jarrowRudd(contract,underlying,strike,life,vol,rate,cp,american,steps,6,mkt)\n",
    "%timeit jarrow_rudd(contract,underlying,strike,life,vol,rate,cp,american,steps) \n"
   ]
  },
  {
   "cell_type": "code",
   "execution_count": 1,
   "metadata": {},
   "outputs": [],
   "source": []
  },
  {
   "cell_type": "code",
   "execution_count": null,
   "metadata": {},
   "outputs": [],
   "source": []
  }
 ],
 "metadata": {
  "kernelspec": {
   "display_name": "Python 3",
   "language": "python",
   "name": "python3"
  },
  "language_info": {
   "codemirror_mode": {
    "name": "ipython",
    "version": 3
   },
   "file_extension": ".py",
   "mimetype": "text/x-python",
   "name": "python",
   "nbconvert_exporter": "python",
   "pygments_lexer": "ipython3",
   "version": "3.7.0"
  }
 },
 "nbformat": 4,
 "nbformat_minor": 1
}
