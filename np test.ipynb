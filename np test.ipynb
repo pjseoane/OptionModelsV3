{
 "cells": [
  {
   "cell_type": "code",
<<<<<<< HEAD
   "execution_count": 1,
   "metadata": {},
=======
   "execution_count": 6,
   "metadata": {
    "collapsed": true
   },
>>>>>>> remotes/origin/master
   "outputs": [],
   "source": [
    "import numpy as np\n",
    "from math import sqrt, exp"
   ]
  },
  {
   "cell_type": "code",
<<<<<<< HEAD
   "execution_count": 2,
=======
   "execution_count": 7,
>>>>>>> remotes/origin/master
   "metadata": {},
   "outputs": [],
   "source": [
    "values=np.append(np.repeat(1.1,3),np.repeat(0.8,3))"
   ]
  },
  {
   "cell_type": "code",
<<<<<<< HEAD
   "execution_count": 3,
=======
   "execution_count": 8,
>>>>>>> remotes/origin/master
   "metadata": {},
   "outputs": [
    {
     "name": "stdout",
     "output_type": "stream",
     "text": [
      "[1.1 1.1 1.1 0.8 0.8 0.8]\n"
     ]
    }
   ],
   "source": [
    "print(values)"
   ]
  },
  {
   "cell_type": "code",
   "execution_count": 9,
   "metadata": {},
   "outputs": [],
   "source": [
    "out=values.prod()*2"
   ]
  },
  {
   "cell_type": "code",
   "execution_count": 10,
   "metadata": {},
   "outputs": [
    {
     "name": "stdout",
     "output_type": "stream",
     "text": [
      "1.3629440000000006\n"
     ]
    }
   ],
   "source": [
    "print(out)"
   ]
  },
  {
   "cell_type": "code",
   "execution_count": 11,
   "metadata": {},
   "outputs": [],
   "source": [
    "stock_price_tree = []\n",
    "steps=5\n",
    "for i in range(1,steps+1):\n",
    "            # Number of prices per period\n",
    "            period_prices = []\n",
    "            for j in range(i+1):\n",
    "                up_factor_repeat = i-j\n",
    "                down_factor_repeat = j\n",
    "\n",
    "                values = np.append(np.repeat(2, up_factor_repeat), \n",
    "                        np.repeat(1, down_factor_repeat))\n",
    "                stock_price = values.prod() * 1\n",
    "                period_prices.append(stock_price)\n",
    "            stock_price_tree.append(period_prices)"
   ]
  },
  {
   "cell_type": "code",
   "execution_count": 12,
   "metadata": {},
   "outputs": [
    {
     "name": "stdout",
     "output_type": "stream",
     "text": [
      "[[2, 1], [4, 2, 1], [8, 4, 2, 1], [16, 8, 4, 2, 1], [32, 16, 8, 4, 2, 1]]\n"
     ]
    }
   ],
   "source": [
    "print(stock_price_tree)\n",
    "#print(period_prices)"
   ]
  },
  {
   "cell_type": "code",
   "execution_count": 13,
   "metadata": {},
   "outputs": [
    {
     "name": "stdout",
     "output_type": "stream",
     "text": [
<<<<<<< HEAD
      "[2, 1]\n",
      "[4, 2, 1]\n",
      "[8, 4, 2, 1]\n",
      "4\n"
=======
      "[2, 1]\n[4, 2, 1]\n[8, 4, 2, 1]\n4\n"
>>>>>>> remotes/origin/master
     ]
    }
   ],
   "source": [
    "print(stock_price_tree[0])\n",
    "print(stock_price_tree[1])\n",
    "print(stock_price_tree[2])\n",
    "print(stock_price_tree[2][1])\n"
   ]
  },
  {
   "cell_type": "code",
<<<<<<< HEAD
   "execution_count": 4,
=======
   "execution_count": 17,
>>>>>>> remotes/origin/master
   "metadata": {},
   "outputs": [],
   "source": [
    "contract=\"S\"\n",
    "underlying=100.0\n",
    "strike=100.0\n",
    "life=365\n",
    "vol=0.3\n",
    "rf=0.03\n",
    "div=0\n",
    "cp=1\n",
    "american=True\n",
    "steps=5"
   ]
  },
  {
   "cell_type": "code",
<<<<<<< HEAD
   "execution_count": 32,
   "metadata": {},
   "outputs": [],
   "source": [
    "def payoffFunc(und, strk, cp):\n",
    "    return max((und - strk) * cp, 0)"
=======
   "execution_count": 18,
   "metadata": {},
   "outputs": [],
   "source": [
    "def payoffFunc(underlying, strike, cp):\n",
    "    return max((underlying - strike) * cp, 0)"
>>>>>>> remotes/origin/master
   ]
  },
  {
   "cell_type": "code",
   "execution_count": 19,
   "metadata": {},
   "outputs": [],
   "source": [
    "h = life / 365 / steps\n",
    "u = exp(vol * sqrt(h))   #upFactor\n",
    "d = exp(-vol * sqrt(h))  #DownFactor\n",
    "drift = 1 if (contract == \"F\") else exp(rf * h)\n",
    "\n",
    "q = (drift - d) / (u - d)\n",
    "qx = 1 - q\n",
    "\n",
<<<<<<< HEAD
    "payoff = lambda x, y, cp: max((x/1.0 - y/1.0)*cp, 0)\n",
=======
    "payoff = lambda x, y, cp: max((x - y)*cp, 0)\n",
>>>>>>> remotes/origin/master
    "payoff = np.vectorize(payoff)\n",
    "undTree=[]\n",
    "optTree=[]"
   ]
  },
  {
   "cell_type": "code",
<<<<<<< HEAD
   "execution_count": 68,
=======
   "execution_count": 20,
>>>>>>> remotes/origin/master
   "metadata": {},
   "outputs": [],
   "source": [
    "#build undTree\n",
    "for i in range(1,steps+1):\n",
    "    # Number of prices per period\n",
    "    period_prices = []\n",
    "    for j in range(i+1):\n",
    "        up_factor_repeat = i-j\n",
    "        down_factor_repeat = j\n",
    "\n",
    "        values = np.append(np.repeat(u, up_factor_repeat), np.repeat(d, down_factor_repeat))\n",
    "        assetAtNode = values.prod() * underlying\n",
    "        period_prices.append(assetAtNode)\n",
    "    undTree.append(period_prices)"
   ]
  },
  {
   "cell_type": "code",
<<<<<<< HEAD
   "execution_count": 69,
=======
   "execution_count": 21,
>>>>>>> remotes/origin/master
   "metadata": {},
   "outputs": [
    {
     "name": "stdout",
     "output_type": "stream",
     "text": [
<<<<<<< HEAD
      "[[114.35804413868395, 87.44465748183686], [130.77762259225187, 100.0, 76.46568122115768], [149.5547313675689, 114.35804413868395, 87.44465748183686, 66.86515303499459], [171.0278657088147, 130.77762259225187, 100.0, 76.46568122115768, 58.470004046157065], [195.58412215673542, 149.5547313675689, 114.35804413868395, 87.44465748183686, 66.86515303499459, 51.1288947677782], [114.35804413868395, 87.44465748183686], [130.77762259225187, 100.0, 76.46568122115768], [149.5547313675689, 114.35804413868395, 87.44465748183686, 66.86515303499459], [171.0278657088147, 130.77762259225187, 100.0, 76.46568122115768, 58.470004046157065], [195.58412215673542, 149.5547313675689, 114.35804413868395, 87.44465748183686, 66.86515303499459, 51.1288947677782]]\n"
=======
      "[[114.35804413868395, 87.44465748183686], [130.77762259225187, 100.0, 76.46568122115768], [149.5547313675689, 114.35804413868395, 87.44465748183686, 66.86515303499459], [171.0278657088147, 130.77762259225187, 100.0, 76.46568122115768, 58.470004046157065], [195.58412215673542, 149.5547313675689, 114.35804413868395, 87.44465748183686, 66.86515303499459, 51.1288947677782]]\n"
>>>>>>> remotes/origin/master
     ]
    }
   ],
   "source": [
    "print (undTree)"
   ]
  },
  {
   "cell_type": "code",
<<<<<<< HEAD
   "execution_count": 70,
=======
   "execution_count": 22,
>>>>>>> remotes/origin/master
   "metadata": {},
   "outputs": [
    {
     "name": "stdout",
     "output_type": "stream",
     "text": [
      "[195.58412215673542, 149.5547313675689, 114.35804413868395, 87.44465748183686, 66.86515303499459, 51.1288947677782]\n"
     ]
    }
   ],
   "source": [
    "bound=undTree[steps-1]\n",
    "print(bound)"
   ]
  },
  {
   "cell_type": "code",
<<<<<<< HEAD
   "execution_count": 76,
   "metadata": {},
   "outputs": [],
   "source": [
    "boundary=[]\n",
=======
   "execution_count": 23,
   "metadata": {},
   "outputs": [],
   "source": [
    "#boundary=[]\n",
>>>>>>> remotes/origin/master
    "boundary=payoff((undTree[steps-1]),strike,cp)"
   ]
  },
  {
   "cell_type": "code",
<<<<<<< HEAD
   "execution_count": 77,
=======
   "execution_count": 29,
>>>>>>> remotes/origin/master
   "metadata": {},
   "outputs": [
    {
     "name": "stdout",
     "output_type": "stream",
     "text": [
<<<<<<< HEAD
      "[95.58412216 49.55473137 14.35804414  0.          0.          0.        ]\n",
      "[95.58412216 49.55473137 14.35804414  0.          0.          0.        ]\n",
      "[ 0  0  0 12 33 48]\n"
=======
      "[95.58412216 49.55473137 14.35804414  0.          0.          0.        ]\n[95.58412216 49.55473137 14.35804414  0.          0.          0.        ]\n[95.58412216 49.55473137 14.35804414  0.          0.          0.        ]\n"
>>>>>>> remotes/origin/master
     ]
    }
   ],
   "source": [
    "print(boundary)\n",
    "print(payoff(bound,strike,1))\n",
    "print(payoff(bound,strike,-1))"
   ]
  },
  {
   "cell_type": "code",
<<<<<<< HEAD
   "execution_count": 87,
   "metadata": {},
   "outputs": [
    {
     "name": "stdout",
     "output_type": "stream",
     "text": [
      "6\n"
     ]
    }
   ],
   "source": [
    "print(len(bound))"
   ]
  },
  {
   "cell_type": "code",
   "execution_count": 88,
   "metadata": {},
   "outputs": [
    {
     "name": "stdout",
     "output_type": "stream",
     "text": [
      "149.5547313675689\n"
     ]
    }
   ],
   "source": [
    "print(bound[1])"
   ]
  },
  {
   "cell_type": "code",
   "execution_count": 93,
   "metadata": {},
   "outputs": [
    {
     "name": "stdout",
     "output_type": "stream",
     "text": [
      "33.13484696500541\n"
     ]
    }
   ],
   "source": [
    "print(payoff(bound[4],strike,-1))"
   ]
=======
   "execution_count": 105,
   "metadata": {},
   "outputs": [],
   "source": []
>>>>>>> remotes/origin/master
  },
  {
   "cell_type": "code",
   "execution_count": null,
   "metadata": {},
   "outputs": [],
   "source": []
  }
 ],
 "metadata": {
  "kernelspec": {
<<<<<<< HEAD
   "display_name": "Python 3",
   "language": "python",
   "name": "python3"
=======
   "display_name": "Python 2",
   "language": "python",
   "name": "python2"
>>>>>>> remotes/origin/master
  },
  "language_info": {
   "codemirror_mode": {
    "name": "ipython",
<<<<<<< HEAD
    "version": 3
=======
    "version": 2
>>>>>>> remotes/origin/master
   },
   "file_extension": ".py",
   "mimetype": "text/x-python",
   "name": "python",
   "nbconvert_exporter": "python",
<<<<<<< HEAD
   "pygments_lexer": "ipython3",
   "version": "3.6.5"
  }
 },
 "nbformat": 4,
 "nbformat_minor": 1
=======
   "pygments_lexer": "ipython2",
   "version": "2.7.6"
  }
 },
 "nbformat": 4,
 "nbformat_minor": 0
>>>>>>> remotes/origin/master
}
