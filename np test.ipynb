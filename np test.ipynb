{
 "cells": [
  {
   "cell_type": "heading",
   "metadata": {},
   "level": 1,
   "source": [
    "HOME BRANCH\n"
   ]
  },
  {
   "cell_type": "code",
   "execution_count": 16,
   "metadata": {},
   "outputs": [],
   "source": [
    "import numpy as np\n",
    "from math import sqrt, exp"
   ]
  },
  {
   "cell_type": "code",
   "execution_count": 17,
   "metadata": {},
   "outputs": [],
   "source": [
    "contract=\"S\"\n",
    "underlying=100.0\n",
    "strike=100.0\n",
    "life=365\n",
    "vol=0.3\n",
    "rf=0.03\n",
    "div=0\n",
    "cp=1\n",
    "american=True\n",
    "steps=100"
   ]
  },
  {
   "cell_type": "code",
   "execution_count": 18,
   "metadata": {},
   "outputs": [],
   "source": [
    "def payoffFunc(und, strk, cp):\n",
    "    return max((und - strk) * cp, 0)"
   ]
  },
  {
   "cell_type": "code",
   "execution_count": 19,
   "metadata": {},
   "outputs": [],
   "source": [
    "h = life / 365 / steps\n",
    "u = exp(vol * sqrt(h))   #upFactor\n",
    "d = exp(-vol * sqrt(h))  #DownFactor\n",
    "drift = 1 if (contract == \"F\") else exp(rf * h)\n",
    "\n",
    "q = (drift - d) / (u - d)\n",
    "qx = 1 - q\n"
   ]
  },
  {
   "cell_type": "code",
   "execution_count": 20,
   "metadata": {},
   "outputs": [],
   "source": [
    "#build undTree\n",
    "undTree=[]\n",
    "for i in range(0,steps+1):\n",
    "    # Number of prices per period\n",
    "    period_prices = []\n",
    "    for j in range(i+1):\n",
    "        up_factor_repeat = i-j\n",
    "        down_factor_repeat = j\n",
    "\n",
    "        values = np.append(np.repeat(u, up_factor_repeat), np.repeat(d, down_factor_repeat))\n",
    "        assetAtNode = values.prod() * underlying\n",
    "        period_prices.append(assetAtNode)\n",
    "    undTree.append(period_prices)"
   ]
  },
  {
   "cell_type": "code",
   "execution_count": 21,
   "metadata": {},
   "outputs": [],
   "source": [
    "#print (undTree)\n",
    "#print (\"ultimo nivel:\",undTree[steps])"
   ]
  },
  {
   "cell_type": "code",
   "execution_count": 22,
   "metadata": {},
   "outputs": [],
   "source": [
    "opArray=undTree.copy()\n",
    "#print (opArray)\n",
    "#print(\"Ultimo Nivel :\",opArray[steps])"
   ]
  },
  {
   "cell_type": "code",
   "execution_count": 23,
   "metadata": {},
   "outputs": [],
   "source": [
    "#Boundary Condition\n",
    "for i in range(steps+1):\n",
    "    opArray[steps][i]=payoffFunc(undTree[steps][i],strike,cp)\n",
    "    \n",
    "#print(opArray[steps])\n"
   ]
  },
  {
   "cell_type": "code",
   "execution_count": 24,
   "metadata": {},
   "outputs": [
    {
     "name": "stdout",
     "output_type": "stream",
     "text": [
      "Prima: 13.253838123630688\n"
     ]
    }
   ],
   "source": [
    "for i in range(steps-1,-1,-1):\n",
    "    for j in range (len(opArray[i])):\n",
    "        opAtNode=(opArray[i+1][j+1]*qx+opArray[i+1][j]*q)/drift\n",
    "        \n",
    "        if (american == 1):\n",
    "            opAtNode=max(payoffFunc(undTree[i][j], strike, cp), opAtNode)\n",
    "        \n",
    "        opArray[i][j]=opAtNode\n",
    "    #print(opArray[i]) \n",
    "    #print(\"opArray Final :\",opArray)\n",
    "print(\"Prima:\",opArray[0][0])"
   ]
  },
  {
   "cell_type": "code",
   "execution_count": 25,
   "metadata": {},
   "outputs": [],
   "source": [
    "from binomialCRR5 import binomCRR5"
   ]
  },
  {
   "cell_type": "code",
   "execution_count": 26,
   "metadata": {},
   "outputs": [],
   "source": [
    "contract=\"S\"\n",
    "underlying=100.0\n",
    "strike=100.0\n",
    "life=365\n",
    "vol=0.3\n",
    "rf=0.03\n",
    "div=0\n",
    "cp=-1\n",
    "american=True\n",
    "steps=100\n"
   ]
  },
  {
   "cell_type": "code",
   "execution_count": 27,
   "metadata": {},
   "outputs": [
    {
     "name": "stdout",
     "output_type": "stream",
     "text": [
      "10.591711572507526\n"
     ]
    }
   ],
   "source": [
    "print(binomCRR5(contract,underlying,strike,life,vol,rf,cp,div,american,steps))\n"
   ]
  },
  {
   "cell_type": "code",
   "execution_count": 28,
   "metadata": {},
   "outputs": [
    {
     "name": "stdout",
     "output_type": "stream",
     "text": [
      "1 loop, best of 3: 363 ms per loop\n"
     ]
    }
   ],
   "source": [
    "%timeit binomCRR5(contract,underlying,strike,life,vol,rf,cp,div,american,steps)"
   ]
  },
  {
   "cell_type": "code",
   "execution_count": null,
   "metadata": {},
   "outputs": [],
   "source": []
  }
 ],
 "metadata": {
  "kernelspec": {
   "display_name": "Python 3",
   "language": "python",
   "name": "python3"
  },
  "language_info": {
   "codemirror_mode": {
    "name": "ipython",
    "version": 3
   },
   "file_extension": ".py",
   "mimetype": "text/x-python",
   "name": "python",
   "nbconvert_exporter": "python",
   "pygments_lexer": "ipython3",
   "version": "3.6.5"
  }
 },
 "nbformat": 4,
 "nbformat_minor": 1
}
