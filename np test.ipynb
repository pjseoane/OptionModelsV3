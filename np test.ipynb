{
 "cells": [
  {
   "cell_type": "heading",
   "metadata": {},
   "level": 1,
   "source": [
    "MASTER \n"
   ]
  },
  {
   "cell_type": "code",
   "execution_count": 106,
   "metadata": {},
   "outputs": [],
   "source": [
    "import numpy as np\n",
    "from math import sqrt, exp"
   ]
  },
  {
   "cell_type": "code",
   "execution_count": 107,
   "metadata": {},
   "outputs": [],
   "source": [
    "contract=\"S\"\n",
    "underlying=100.0\n",
    "strike=100.0\n",
    "life=365\n",
    "vol=0.3\n",
    "rf=0.03\n",
    "div=0\n",
    "cp=1\n",
    "american=True\n",
    "steps=5"
   ]
  },
  {
   "cell_type": "code",
   "execution_count": 108,
   "metadata": {},
   "outputs": [],
   "source": [
    "def payoffFunc(und, strk, cp):\n",
    "    return max((und - strk) * cp, 0)"
   ]
  },
  {
   "cell_type": "code",
   "execution_count": 109,
   "metadata": {},
   "outputs": [],
   "source": [
    "h = life / 365 / steps\n",
    "u = exp(vol * sqrt(h))   #upFactor\n",
    "d = exp(-vol * sqrt(h))  #DownFactor\n",
    "drift = 1 if (contract == \"F\") else exp(rf * h)\n",
    "\n",
    "q = (drift - d) / (u - d)\n",
    "qx = 1 - q\n",
    "\n",
    "payoff = lambda x, y, cp: max((x/1.0 - y/1.0)*cp, 0)\n",
    "payoff = np.vectorize(payoff)\n",
    "undTree=[]\n",
    "#optTree=[]"
   ]
  },
  {
   "cell_type": "code",
   "execution_count": 110,
   "metadata": {},
   "outputs": [],
   "source": [
    "#build undTree\n",
    "for i in range(1,steps+1):\n",
    "    # Number of prices per period\n",
    "    period_prices = []\n",
    "    for j in range(i+1):\n",
    "        up_factor_repeat = i-j\n",
    "        down_factor_repeat = j\n",
    "\n",
    "        values = np.append(np.repeat(u, up_factor_repeat), np.repeat(d, down_factor_repeat))\n",
    "        assetAtNode = values.prod() * underlying\n",
    "        period_prices.append(assetAtNode)\n",
    "    undTree.append(period_prices)"
   ]
  },
  {
   "cell_type": "code",
   "execution_count": 111,
   "metadata": {},
   "outputs": [
    {
     "name": "stdout",
     "output_type": "stream",
     "text": [
      "[[114.35804413868395, 87.44465748183686], [130.77762259225187, 100.0, 76.46568122115768], [149.5547313675689, 114.35804413868395, 87.44465748183686, 66.86515303499459], [171.0278657088147, 130.77762259225187, 100.0, 76.46568122115768, 58.470004046157065], [195.58412215673542, 149.5547313675689, 114.35804413868395, 87.44465748183686, 66.86515303499459, 51.1288947677782]]\n5\n"
     ]
    }
   ],
   "source": [
    "print (undTree)\n",
    "print (len(undTree))"
   ]
  },
  {
   "cell_type": "code",
   "execution_count": 112,
   "metadata": {},
   "outputs": [
    {
     "name": "stdout",
     "output_type": "stream",
     "text": [
      "[195.58412215673542, 149.5547313675689, 114.35804413868395, 87.44465748183686, 66.86515303499459, 51.1288947677782]\n"
     ]
    }
   ],
   "source": [
    "bound=undTree[steps-1]\n",
    "print(bound)"
   ]
  },
  {
   "cell_type": "code",
   "execution_count": 113,
   "metadata": {},
   "outputs": [],
   "source": [
    "#boundary=[]\n",
    "boundary=payoff((undTree[steps-1]),strike,cp)"
   ]
  },
  {
   "cell_type": "code",
   "execution_count": 114,
   "metadata": {},
   "outputs": [
    {
     "name": "stdout",
     "output_type": "stream",
     "text": [
      "[95.58412216 49.55473137 14.35804414  0.          0.          0.        ]\n[95.58412216 49.55473137 14.35804414  0.          0.          0.        ]\n[ 0  0  0 12 33 48]\n"
     ]
    }
   ],
   "source": [
    "#payoff No Anda\n",
    "print(boundary)\n",
    "print(payoff(bound,strike,1))\n",
    "print(payoff(bound,strike,-1))"
   ]
  },
  {
   "cell_type": "code",
   "execution_count": 115,
   "metadata": {},
   "outputs": [
    {
     "name": "stdout",
     "output_type": "stream",
     "text": [
      "6\n5\n"
     ]
    }
   ],
   "source": [
    "# l la medida del ultimo nivel es siempre steps+1\n",
    "l=len(undTree[steps-1])\n",
    "opt=np.zeros(l)\n",
    "print(l)\n",
    "print(len(undTree))"
   ]
  },
  {
   "cell_type": "code",
   "execution_count": 116,
   "metadata": {},
   "outputs": [
    {
     "name": "stdout",
     "output_type": "stream",
     "text": [
      "optPrice [0, 0, 0, 12.555342518163144, 33.13484696500541, 48.8711052322218]\noptTree [[0, 0, 0, 12.555342518163144, 33.13484696500541, 48.8711052322218]]\n"
     ]
    }
   ],
   "source": [
    "#Boundary Conditions\n",
    "optPrices=[]\n",
    "optTree=[]\n",
    "for i in range(l):\n",
    "    \n",
    "    optPrices.append(payoffFunc(undTree[steps-1][i],strike,-1))\n",
    " \n",
    "print(\"optPrice\",optPrices)\n",
    "optTree.append(optPrices)\n",
    "print(\"optTree\",optTree)"
   ]
  },
  {
   "cell_type": "code",
   "execution_count": 121,
   "metadata": {},
   "outputs": [
    {
     "name": "stdout",
     "output_type": "stream",
     "text": [
      "Medida Lastlevel : 6\n1\n"
     ]
    }
   ],
   "source": [
    "lastLevel=optTree\n",
    "print(\"Medida Lastlevel :\",len(lastLevel[0]))\n",
    "print(len(optTree))\n",
    "#print(lastLevel)"
   ]
  },
  {
   "cell_type": "code",
   "execution_count": 119,
   "metadata": {},
   "outputs": [
    {
     "name": "stdout",
     "output_type": "stream",
     "text": [
      "[0, 0, 0, 12.555342518163144, 33.13484696500541, 48.8711052322218]\n"
     ]
    }
   ],
   "source": [
    "print(optTree[0])"
   ]
  },
  {
   "cell_type": "code",
   "execution_count": null,
   "metadata": {},
   "outputs": [],
   "source": []
  }
 ],
 "metadata": {
  "kernelspec": {
   "display_name": "Python 3",
   "language": "python",
   "name": "python3"
  },
  "language_info": {
   "codemirror_mode": {
    "name": "ipython",
    "version": 3
   },
   "file_extension": ".py",
   "mimetype": "text/x-python",
   "name": "python",
   "nbconvert_exporter": "python",
   "pygments_lexer": "ipython3",
   "version": "3.6.5"
  }
 },
 "nbformat": 4,
 "nbformat_minor": 1
}
