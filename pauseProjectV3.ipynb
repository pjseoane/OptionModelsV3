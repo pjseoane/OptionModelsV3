{
 "cells": [
  {
   "cell_type": "code",
   "execution_count": 1,
   "metadata": {
    "collapsed": true
   },
   "outputs": [],
   "source": [
    "import sys\n",
    "sys.path.append('C:/Users/pauli/Dropbox/Python/OptionModels')\n",
    "sys.path.append('C:/Users/pauli/Dropbox/Python/OptionModels/Cython')\n",
    "#sys.path.append('C:/Users/pseoane/Dropbox/Python/OptionModels')\n",
    "#sys.path.append('C:/Users/pseoane/Dropbox/Python/OptionModels/Cython')\n",
    "sys.path.append('C:/Users/pseoane/Documents/Python Projects/OptionModels')\n",
    "sys.path.append('C:/Users/pauli/Documents/python/OptionsModelsV3')"
   ]
  },
  {
   "cell_type": "code",
   "execution_count": 2,
   "metadata": {},
   "outputs": [],
   "source": [
    "from optionsMasterDefv3 import binomCRR3v2,binomCRR4v2,binomJRv2,blackScholesv2"
   ]
  },
  {
   "cell_type": "code",
   "execution_count": 4,
   "metadata": {},
   "outputs": [],
   "source": [
    "contract=\"S\"\n",
    "underlying=100\n",
    "strike=100\n",
    "life=365\n",
    "vol=0.3\n",
    "rate=0.03\n",
    "div=0\n",
    "cp=-1\n",
    "american=True\n",
    "steps=100\n",
    "mkt=10"
   ]
  },
  {
   "cell_type": "code",
   "execution_count": null,
   "metadata": {},
   "outputs": [],
   "source": []
  },
  {
   "cell_type": "code",
   "execution_count": null,
   "metadata": {},
   "outputs": [],
   "source": []
  },
  {
   "cell_type": "code",
   "execution_count": 5,
   "metadata": {},
   "outputs": [
    {
     "name": "stdout",
     "output_type": "stream",
     "text": [
      "BS opt def      : [ 9.73453725 -0.40217596  0.01318954  0.38688768 -0.01098084 -0.49952133\n  0.29152149]\n"
     ]
    }
   ],
   "source": [
    "optBSdef=blackScholesv2(contract,underlying,strike,life,vol,rate,cp,div,6,mkt)\n",
    "print(\"BS opt def      :\", optBSdef)"
   ]
  },
  {
   "cell_type": "markdown",
   "metadata": {},
   "source": []
  },
  {
   "cell_type": "code",
   "execution_count": 6,
   "metadata": {},
   "outputs": [
    {
     "name": "stdout",
     "output_type": "stream",
     "text": [
      "[ 9.9996736  -0.41910336  0.01466139  0.38594146 -0.01201117 -0.37326884\n  0.28466846]\n[ 9.9996736  -0.41925746  0.01466139  0.38594146 -0.01201117 -0.37326884\n  0.28466846]\n[10.02712922 -0.41911892  0.01462433  0.39163843 -0.01075323 -0.39916427\n  0.28396729]\n"
     ]
    }
   ],
   "source": [
    "optCRR3v2=binomCRR3v2(contract,underlying,strike,life,vol,rate,cp,div,american,steps,6,mkt)\n",
    "optCRR4v2=binomCRR4v2(contract,underlying,strike,life,vol,rate,cp,div,american,steps,6,mkt)\n",
    "optJRv2=binomJRv2(contract,underlying,strike,life,vol,rate,cp,div,american,steps,6,mkt)\n",
    "print(optCRR3v2)\n",
    "print(optCRR4v2)\n",
    "print (optJRv2)"
   ]
  },
  {
   "cell_type": "code",
   "execution_count": 8,
   "metadata": {},
   "outputs": [
    {
     "name": "stdout",
     "output_type": "stream",
     "text": [
      "1 loop, best of 3: 194 ms per loop\n"
     ]
    },
    {
     "name": "stdout",
     "output_type": "stream",
     "text": [
      "10 loops, best of 3: 168 ms per loop\n"
     ]
    },
    {
     "name": "stdout",
     "output_type": "stream",
     "text": [
      "10 loops, best of 3: 87.5 ms per loop\n"
     ]
    }
   ],
   "source": [
    "% timeit binomCRR3v2(contract,underlying,strike,life,vol,rate,cp,div,american,steps,6,mkt)\n",
    "% timeit binomCRR4v2(contract,underlying,strike,life,vol,rate,cp,div,american,steps,6,mkt)\n",
    "% timeit binomJRv2(contract,underlying,strike,life,vol,rate,cp,div,american,steps,6,0)"
   ]
  }
 ],
 "metadata": {
  "kernelspec": {
   "display_name": "Python 2",
   "language": "python",
   "name": "python2"
  },
  "language_info": {
   "codemirror_mode": {
    "name": "ipython",
    "version": 2
   },
   "file_extension": ".py",
   "mimetype": "text/x-python",
   "name": "python",
   "nbconvert_exporter": "python",
   "pygments_lexer": "ipython2",
   "version": "2.7.6"
  }
 },
 "nbformat": 4,
 "nbformat_minor": 0
}
