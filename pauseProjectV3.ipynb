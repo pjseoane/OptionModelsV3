{
 "cells": [
  {
   "cell_type": "code",
   "execution_count": 1,
   "metadata": {
    "collapsed": true
   },
   "outputs": [],
   "source": [
    "import sys\n",
    "sys.path.append('C:/Users/pauli/Dropbox/Python/OptionModels')\n",
    "sys.path.append('C:/Users/pauli/Dropbox/Python/OptionModels/Cython')\n",
    "sys.path.append('C:/Users/pseoane/Dropbox/Python/OptionModels')\n",
    "sys.path.append('C:/Users/pseoane/Dropbox/Python/OptionModels/Cython')\n",
    "sys.path.append('C:/Users/pseoane/Documents/Python Projects/OptionModels')\n",
    "sys.path.append('C:/Users/pauli/Documents/python/OptionsModelsV3')"
   ]
  },
  {
   "cell_type": "code",
   "execution_count": 2,
   "metadata": {},
   "outputs": [
    {
     "data": {
      "text/plain": [
       "(None, <pyximport.pyximport.PyxImporter at 0x1d30a8d73c8>)"
      ]
     },
     "execution_count": 2,
     "metadata": {},
     "output_type": "execute_result"
    }
   ],
   "source": [
    "import pyximport,numpy\n",
    "#pyximport.install()\n",
    "pyximport.install(setup_args=dict(include_dirs=[numpy.get_include()]))"
   ]
  },
  {
   "cell_type": "code",
   "execution_count": 3,
   "metadata": {},
   "outputs": [],
   "source": [
    "from optionsMasterDefv3 import binomCRR3v2,binomCRR4v2,binomJRv2,blackScholesv2\n",
    "from binomialJarrowRudd import jarrowRudd\n",
    "from JarrowCython import jarrowRuddCy"
   ]
  },
  {
   "cell_type": "code",
   "execution_count": 3,
   "metadata": {},
   "outputs": [],
   "source": [
    "contract=\"S\"\n",
    "underlying=100\n",
    "strike=100\n",
    "life=365\n",
    "vol=0.3\n",
    "rate=0.03\n",
    "div=0\n",
    "cp=-1\n",
    "american=False\n",
    "steps=100\n",
    "mkt=11"
   ]
  },
  {
   "cell_type": "code",
   "execution_count": 8,
   "metadata": {},
   "outputs": [
    {
     "name": "stdout",
     "output_type": "stream",
     "text": [
      "BS opt def      : [10.32786175 -0.40129367  0.01250801  0.38666812 -0.0117433  -0.50457229\n  0.31738961  2.          0.          0.        ]\n"
     ]
    }
   ],
   "source": [
    "optBSdef=blackScholesv2(contract,underlying,strike,life,vol,rate,cp,div,6,mkt)\n",
    "print(\"BS opt def      :\", optBSdef)"
   ]
  },
  {
   "cell_type": "markdown",
   "metadata": {},
   "source": []
  },
  {
   "cell_type": "code",
   "execution_count": 9,
   "metadata": {},
   "outputs": [
    {
     "name": "stdout",
     "output_type": "stream",
     "text": [
      "CRR3 :\n [10.29839148 -0.40134115  0.01298695  0.38561887 -0.01187014 -0.49561568\n  0.31819785  2.          0.          0.        ]\nCRR4 :\n [10.29839148 -0.40153589  0.01298695  0.38561887 -0.01187014 -0.49561568\n  0.31819785  2.          0.          0.        ]\nJRV2 :\n [ 1.03414765e+01 -4.01545217e-01  1.29441607e-02  3.91443278e-01\n -1.01522265e-02 -5.21222133e-01  3.16835120e-01  2.00000000e+00\n  0.00000000e+00  0.00000000e+00]\nJR Cy:\n  [ 1.03414765e+01 -4.01545217e-01  1.29441607e-02  3.91443278e-01\n -1.01522265e-02 -5.21222133e-01  3.16835120e-01  2.00000000e+00\n  0.00000000e+00  0.00000000e+00]\nJR py:\n  [10.341476489019923, -0.40154521749752914, 0.01294416068551809, 0.3914432775364318, -0.010152226503622904, -0.5212221328744278, 0.3168351201274915]\n"
     ]
    }
   ],
   "source": [
    "optCRR3v2=binomCRR3v2(contract,underlying,strike,life,vol,rate,cp,div,american,steps,6,mkt)\n",
    "optCRR4v2=binomCRR4v2(contract,underlying,strike,life,vol,rate,cp,div,american,steps,6,mkt)\n",
    "optJRv2=binomJRv2(contract,underlying,strike,life,vol,rate,cp,div,american,steps,6,mkt)\n",
    "\n",
    "optJRCy=jarrowRuddCy(contract,underlying,strike,life,vol,rate,cp,div,american,steps,6,mkt)\n",
    "optJR=jarrowRudd(contract,underlying,strike,life,vol,rate,cp,div,american,steps,6,mkt)\n",
    "print(\"CRR3 :\\n\",optCRR3v2)\n",
    "print(\"CRR4 :\\n\",optCRR4v2)\n",
    "print (\"JRV2 :\\n\",optJRv2)\n",
    "print(\"JR Cy:\\n \",optJRCy)\n",
    "print(\"JR py:\\n \",optJR)\n",
    "\n"
   ]
  },
  {
   "cell_type": "heading",
   "metadata": {},
   "level": 1,
   "source": [
    "Analisis de diferencias entre BS y Binomiales Eurpean\n"
   ]
  },
  {
   "cell_type": "code",
   "execution_count": 19,
   "metadata": {},
   "outputs": [
    {
     "name": "stdout",
     "output_type": "stream",
     "text": [
      "0.002950391837856614\n-0.0008326130503437668\n"
     ]
    }
   ],
   "source": [
    "print(optBSdef[0]-optCRR3v2[0])\n",
    "print(optBSdef[0]-optJRv2[0])"
   ]
  },
  {
   "cell_type": "code",
   "execution_count": 8,
   "metadata": {},
   "outputs": [
    {
     "name": "stdout",
     "output_type": "stream",
     "text": [
      "138 ms ± 9.82 ms per loop (mean ± std. dev. of 7 runs, 10 loops each)\n"
     ]
    },
    {
     "name": "stdout",
     "output_type": "stream",
     "text": [
      "190 ms ± 21.2 ms per loop (mean ± std. dev. of 7 runs, 10 loops each)\n"
     ]
    },
    {
     "name": "stdout",
     "output_type": "stream",
     "text": [
      "166 ms ± 2.63 ms per loop (mean ± std. dev. of 7 runs, 10 loops each)\n"
     ]
    },
    {
     "name": "stdout",
     "output_type": "stream",
     "text": [
      "114 µs ± 6.2 µs per loop (mean ± std. dev. of 7 runs, 10000 loops each)\n"
     ]
    }
   ],
   "source": [
    "%timeit binomCRR3v2(contract,underlying,strike,life,vol,rate,cp,div,american,steps,6,mkt)\n",
    "%timeit binomCRR4v2(contract,underlying,strike,life,vol,rate,cp,div,american,steps,6,mkt)\n",
    "%timeit binomJRv2(contract,underlying,strike,life,vol,rate,cp,div,american,steps,6,mkt)\n",
    "%timeit jarrowRuddCy(contract,underlying,strike,life,vol,rate,cp,american,steps)\n"
   ]
  },
  {
   "cell_type": "code",
   "execution_count": 1,
   "metadata": {},
   "outputs": [],
   "source": [
    "from optionModels import blackScholesModel as bs"
   ]
  },
  {
   "cell_type": "code",
   "execution_count": 4,
   "metadata": {},
   "outputs": [
    {
     "ename": "NameError",
     "evalue": "name 'np' is not defined",
     "traceback": [
      "\u001b[1;31m---------------------------------------------------------------------------\u001b[0m",
      "\u001b[1;31mNameError\u001b[0m                                 Traceback (most recent call last)",
      "\u001b[1;32m<ipython-input-4-ababf4251cb3>\u001b[0m in \u001b[0;36m<module>\u001b[1;34m\u001b[0m\n\u001b[1;32m----> 1\u001b[1;33m \u001b[0moptBSpack\u001b[0m\u001b[1;33m=\u001b[0m\u001b[0mbs\u001b[0m\u001b[1;33m.\u001b[0m\u001b[0mblackScholes\u001b[0m\u001b[1;33m(\u001b[0m\u001b[0mcontract\u001b[0m\u001b[1;33m,\u001b[0m\u001b[0munderlying\u001b[0m\u001b[1;33m,\u001b[0m\u001b[0mstrike\u001b[0m\u001b[1;33m,\u001b[0m\u001b[0mlife\u001b[0m\u001b[1;33m,\u001b[0m\u001b[0mvol\u001b[0m\u001b[1;33m,\u001b[0m\u001b[0mrate\u001b[0m\u001b[1;33m,\u001b[0m\u001b[0mcp\u001b[0m\u001b[1;33m,\u001b[0m\u001b[0mdiv\u001b[0m\u001b[1;33m,\u001b[0m\u001b[1;36m6\u001b[0m\u001b[1;33m,\u001b[0m\u001b[0mmkt\u001b[0m\u001b[1;33m)\u001b[0m\u001b[1;33m\u001b[0m\u001b[0m\n\u001b[0m",
      "\u001b[1;32m~\\Documents\\python\\OptionsModelsV3\\optionModels\\blackScholesModel.py\u001b[0m in \u001b[0;36mblackScholes\u001b[1;34m(contract, underlying, strike, life_days, vol, riskFree, cp, div, valueToFind, mktValue)\u001b[0m\n\u001b[0;32m     48\u001b[0m                 \u001b[1;31m#vol=impliedVol  #??para actualizar todas las greeks a la nueva vol\u001b[0m\u001b[1;33m\u001b[0m\u001b[1;33m\u001b[0m\u001b[0m\n\u001b[0;32m     49\u001b[0m         \u001b[1;31m#return fillDerivativesArray(prima, delta, gamma, vega, theta, rho, impliedVol, cont)\u001b[0m\u001b[1;33m\u001b[0m\u001b[1;33m\u001b[0m\u001b[0m\n\u001b[1;32m---> 50\u001b[1;33m         \u001b[0mderivatives\u001b[0m \u001b[1;33m=\u001b[0m \u001b[0mnp\u001b[0m\u001b[1;33m.\u001b[0m\u001b[0mzeros\u001b[0m\u001b[1;33m(\u001b[0m\u001b[1;36m10\u001b[0m\u001b[1;33m)\u001b[0m\u001b[1;33m\u001b[0m\u001b[0m\n\u001b[0m\u001b[0;32m     51\u001b[0m         \u001b[0mderivatives\u001b[0m\u001b[1;33m[\u001b[0m\u001b[1;36m0\u001b[0m\u001b[1;33m]\u001b[0m \u001b[1;33m=\u001b[0m \u001b[0mprima\u001b[0m\u001b[1;33m\u001b[0m\u001b[0m\n\u001b[0;32m     52\u001b[0m         \u001b[0mderivatives\u001b[0m\u001b[1;33m[\u001b[0m\u001b[1;36m1\u001b[0m\u001b[1;33m]\u001b[0m \u001b[1;33m=\u001b[0m \u001b[0mdelta\u001b[0m\u001b[1;33m\u001b[0m\u001b[0m\n",
      "\u001b[1;31mNameError\u001b[0m: name 'np' is not defined"
     ],
     "output_type": "error"
    }
   ],
   "source": [
    "optBSpack=bs.blackScholes(contract,underlying,strike,life,vol,rate,cp,div,6,mkt)"
   ]
  },
  {
   "cell_type": "code",
   "execution_count": null,
   "metadata": {},
   "outputs": [],
   "source": []
  }
 ],
 "metadata": {
  "kernelspec": {
   "display_name": "Python 2",
   "language": "python",
   "name": "python2"
  },
  "language_info": {
   "codemirror_mode": {
    "name": "ipython",
    "version": 2
   },
   "file_extension": ".py",
   "mimetype": "text/x-python",
   "name": "python",
   "nbconvert_exporter": "python",
   "pygments_lexer": "ipython2",
   "version": "2.7.6"
  }
 },
 "nbformat": 4,
 "nbformat_minor": 0
}
