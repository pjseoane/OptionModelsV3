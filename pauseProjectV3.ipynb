{
 "cells": [
  {
   "cell_type": "code",
   "execution_count": 9,
   "metadata": {
    "collapsed": true
   },
   "outputs": [],
   "source": [
    "import sys\n",
    "sys.path.append('C:/Users/pauli/Dropbox/Python/OptionModels')\n",
    "sys.path.append('C:/Users/pauli/Dropbox/Python/OptionModels/Cython')\n",
    "#sys.path.append('C:/Users/pseoane/Dropbox/Python/OptionModels')\n",
    "#sys.path.append('C:/Users/pseoane/Dropbox/Python/OptionModels/Cython')\n",
    "sys.path.append('C:/Users/pseoane/Documents/Python Projects/OptionModels')\n",
    "sys.path.append('C:/Users/pauli/Documents/python/OptionsModelsV3')"
   ]
  },
  {
   "cell_type": "code",
   "execution_count": 10,
   "metadata": {},
   "outputs": [],
   "source": [
    "from optionsMasterDefv3 import binomCRR3v2,binomCRR4v2,binomJRv2,blackScholesv2"
   ]
  },
  {
   "cell_type": "code",
   "execution_count": 23,
   "metadata": {},
   "outputs": [],
   "source": [
    "contract=\"S\"\n",
    "underlying=100\n",
    "strike=100\n",
    "life=365\n",
    "vol=0.3\n",
    "rate=0.03\n",
    "div=0\n",
    "cp=-1\n",
    "american=True\n",
    "steps=100\n",
    "mkt=10\n",
    "\n"
   ]
  },
  {
   "cell_type": "code",
   "execution_count": 24,
   "metadata": {},
   "outputs": [
    {
     "name": "stdout",
     "output_type": "stream",
     "text": [
      "BS opt def      : [10.32786175 -0.40129367  0.01250801  0.38666812 -0.0117433  -0.50457229\n  0.29152085]\n"
     ]
    }
   ],
   "source": [
    "optBSdef=blackScholesv2(contract,underlying,strike,life,vol,rate,cp,div,6,mkt)\n",
    "print(\"BS opt def      :\", optBSdef)"
   ]
  },
  {
   "cell_type": "markdown",
   "metadata": {},
   "source": []
  },
  {
   "cell_type": "code",
   "execution_count": 25,
   "metadata": {},
   "outputs": [
    {
     "name": "stdout",
     "output_type": "stream",
     "text": [
      "[10.59171157 -0.4172115   0.01385343  0.38579795 -0.01278414 -0.37840981\n  0.28466846]\n[10.59171157 -0.41741922  0.01385343  0.38579795 -0.01278414 -0.37840981\n  0.28466846]\n[10.62768238 -0.41725858  0.01381081  0.39070831 -0.01100309 -0.40035656\n  0.28396796]\n"
     ]
    }
   ],
   "source": [
    "optCRR3v2=binomCRR3v2(contract,underlying,strike,life,vol,rate,cp,div,american,steps,6,mkt)\n",
    "optCRR4v2=binomCRR4v2(contract,underlying,strike,life,vol,rate,cp,div,american,steps,6,mkt)\n",
    "optJRv2=binomJRv2(contract,underlying,strike,life,vol,rate,cp,div,american,steps,6,mkt)\n",
    "print(optCRR3v2)\n",
    "print(optCRR4v2)\n",
    "print (optJRv2)"
   ]
  },
  {
   "cell_type": "code",
   "execution_count": 26,
   "metadata": {},
   "outputs": [
    {
     "name": "stdout",
     "output_type": "stream",
     "text": [
      "10 loops, best of 3: 161 ms per loop\n"
     ]
    },
    {
     "name": "stdout",
     "output_type": "stream",
     "text": [
      "1 loop, best of 3: 199 ms per loop\n"
     ]
    },
    {
     "name": "stdout",
     "output_type": "stream",
     "text": [
      "10 loops, best of 3: 89.8 ms per loop\n"
     ]
    }
   ],
   "source": [
    "% timeit binomCRR3v2(contract,underlying,strike,life,vol,rate,cp,div,american,steps,6,mkt)\n",
    "% timeit binomCRR4v2(contract,underlying,strike,life,vol,rate,cp,div,american,steps,6,mkt)\n",
    "% timeit binomJRv2(contract,underlying,strike,life,vol,rate,cp,div,american,steps,6,0)"
   ]
  },
  {
   "cell_type": "code",
   "execution_count": null,
   "metadata": {},
   "outputs": [],
   "source": []
  }
 ],
 "metadata": {
  "kernelspec": {
   "display_name": "Python 2",
   "language": "python",
   "name": "python2"
  },
  "language_info": {
   "codemirror_mode": {
    "name": "ipython",
    "version": 2
   },
   "file_extension": ".py",
   "mimetype": "text/x-python",
   "name": "python",
   "nbconvert_exporter": "python",
   "pygments_lexer": "ipython2",
   "version": "2.7.6"
  }
 },
 "nbformat": 4,
 "nbformat_minor": 0
}
