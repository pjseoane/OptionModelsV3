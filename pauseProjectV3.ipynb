{
 "cells": [
  {
   "cell_type": "code",
   "execution_count": 1,
   "metadata": {
    "collapsed": true
   },
   "outputs": [],
   "source": [
    "import sys\n",
    "sys.path.append('C:/Users/pauli/Dropbox/Python/OptionModels')\n",
    "sys.path.append('C:/Users/pauli/Dropbox/Python/OptionModels/Cython')\n",
    "sys.path.append('C:/Users/pseoane/Dropbox/Python/OptionModels')\n",
    "sys.path.append('C:/Users/pseoane/Dropbox/Python/OptionModels/Cython')\n",
    "sys.path.append('C:/Users/pseoane/Documents/Python Projects/OptionModels')\n",
    "sys.path.append('C:/Users/pauli/Documents/python/OptionsModelsV3')"
   ]
  },
  {
   "cell_type": "code",
   "execution_count": 2,
   "metadata": {},
   "outputs": [
    {
     "data": {
      "text/plain": [
       "(None, <pyximport.pyximport.PyxImporter at 0x263518bb048>)"
      ]
     },
     "execution_count": 2,
     "metadata": {},
     "output_type": "execute_result"
    }
   ],
   "source": [
    "import pyximport,numpy\n",
    "#pyximport.install()\n",
    "pyximport.install(setup_args=dict(include_dirs=[numpy.get_include()]))"
   ]
  },
  {
   "cell_type": "code",
   "execution_count": 3,
   "metadata": {},
   "outputs": [
    {
     "name": "stderr",
     "output_type": "stream",
     "text": [
      "C:\\Users\\pauli\\Documents\\python\\OptionsModelsV3\\venv\\lib\\site-packages\\Cython\\Compiler\\Main.py:367: FutureWarning: Cython directive 'language_level' not set, using 2 for now (Py2). This will change in a later release! File: C:\\Users\\pauli\\Documents\\python\\OptionsModelsV3\\JarrowCython.pyx\n  tree = Parsing.p_module(s, pxd, full_module_name)\n"
     ]
    }
   ],
   "source": [
    "from optionsMasterDefv3 import binomCRR3v2,binomCRR4v2,binomJRv2,blackScholesv2\n",
    "from binomialJarrowRudd import jarrowRudd\n",
    "from JarrowCython import jarrowRuddCy"
   ]
  },
  {
   "cell_type": "code",
   "execution_count": 19,
   "metadata": {},
   "outputs": [],
   "source": [
    "contract=\"S\"\n",
    "underlying=100\n",
    "strike=100\n",
    "life=365\n",
    "vol=0.3\n",
    "rate=0.03\n",
    "div=0\n",
    "cp=-1\n",
    "american=True\n",
    "steps=100\n",
    "mkt=10"
   ]
  },
  {
   "cell_type": "code",
   "execution_count": 20,
   "metadata": {},
   "outputs": [
    {
     "name": "stdout",
     "output_type": "stream",
     "text": [
      "BS opt def      : [10.32786175 -0.40129367  0.01250801  0.38666812 -0.0117433  -0.50457229\n  0.29152085]\n"
     ]
    }
   ],
   "source": [
    "optBSdef=blackScholesv2(contract,underlying,strike,life,vol,rate,cp,div,6,mkt)\n",
    "print(\"BS opt def      :\", optBSdef)"
   ]
  },
  {
   "cell_type": "markdown",
   "metadata": {},
   "source": []
  },
  {
   "cell_type": "code",
   "execution_count": 21,
   "metadata": {},
   "outputs": [
    {
     "name": "stdout",
     "output_type": "stream",
     "text": [
      "[10.59171157 -0.4172115   0.01385343  0.38579795 -0.01278414 -0.37840981\n  0.28466846]\n[10.59171157 -0.41741922  0.01385343  0.38579795 -0.01278414 -0.37840981\n  0.28466846]\n[10.62768238 -0.41725858  0.01381081  0.39070831 -0.01100309 -0.40035656\n  0.28396796]\nJR Cy:  [10.62768238 -0.41725858  0.01381081  0.39070831 -0.01100309 -0.40035656\n  0.28396796  2.          0.          0.        ]\nJR py:  [10.627682380924412, -0.417258583543725, 0.01381081026314037, 0.3907083070988584, -0.011003091681503112, -0.4003565610321118, 0.2839679640453774]\n"
     ]
    }
   ],
   "source": [
    "optCRR3v2=binomCRR3v2(contract,underlying,strike,life,vol,rate,cp,div,american,steps,6,mkt)\n",
    "optCRR4v2=binomCRR4v2(contract,underlying,strike,life,vol,rate,cp,div,american,steps,6,mkt)\n",
    "optJRv2=binomJRv2(contract,underlying,strike,life,vol,rate,cp,div,american,steps,6,mkt)\n",
    "\n",
    "optJRCy=jarrowRuddCy(contract,underlying,strike,life,vol,rate,cp,div,american,steps,6,mkt)\n",
    "optJR=jarrowRudd(contract,underlying,strike,life,vol,rate,cp,div,american,steps,6,mkt)\n",
    "print(optCRR3v2)\n",
    "print(optCRR4v2)\n",
    "print (optJRv2)\n",
    "print(\"JR Cy: \",optJRCy)\n",
    "print(\"JR py: \",optJR)\n",
    "\n"
   ]
  },
  {
   "cell_type": "heading",
   "metadata": {},
   "level": 1,
   "source": [
    "Analisis de diferencias entre BS y Binomiales Eurpean\n"
   ]
  },
  {
   "cell_type": "code",
   "execution_count": 22,
   "metadata": {},
   "outputs": [
    {
     "name": "stdout",
     "output_type": "stream",
     "text": [
      "-0.263849819775805\n-0.29982062819268407\n"
     ]
    }
   ],
   "source": [
    "print(optBSdef[0]-optCRR3v2[0])\n",
    "print(optBSdef[0]-optJRv2[0])"
   ]
  },
  {
   "cell_type": "code",
   "execution_count": 18,
   "metadata": {},
   "outputs": [
    {
     "name": "stdout",
     "output_type": "stream",
     "text": [
      "69.8 ms ± 12.8 ms per loop (mean ± std. dev. of 7 runs, 10 loops each)\n"
     ]
    },
    {
     "name": "stdout",
     "output_type": "stream",
     "text": [
      "108 ms ± 3.42 ms per loop (mean ± std. dev. of 7 runs, 10 loops each)\n"
     ]
    },
    {
     "name": "stdout",
     "output_type": "stream",
     "text": [
      "115 ms ± 12.8 ms per loop (mean ± std. dev. of 7 runs, 10 loops each)\n"
     ]
    },
    {
     "name": "stdout",
     "output_type": "stream",
     "text": [
      "120 µs ± 2.93 µs per loop (mean ± std. dev. of 7 runs, 10000 loops each)\n"
     ]
    }
   ],
   "source": [
    "%timeit binomCRR3v2(contract,underlying,strike,life,vol,rate,cp,div,american,steps,6,mkt)\n",
    "%timeit binomCRR4v2(contract,underlying,strike,life,vol,rate,cp,div,american,steps,6,mkt)\n",
    "%timeit binomJRv2(contract,underlying,strike,life,vol,rate,cp,div,american,steps,6,mkt)\n",
    "%timeit jarrowRuddCy(contract,underlying,strike,life,vol,rate,cp,american,steps)\n"
   ]
  },
  {
   "cell_type": "code",
   "execution_count": 1,
   "metadata": {},
   "outputs": [],
   "source": []
  },
  {
   "cell_type": "code",
   "execution_count": null,
   "metadata": {},
   "outputs": [],
   "source": []
  }
 ],
 "metadata": {
  "kernelspec": {
   "display_name": "Python 2",
   "language": "python",
   "name": "python2"
  },
  "language_info": {
   "codemirror_mode": {
    "name": "ipython",
    "version": 2
   },
   "file_extension": ".py",
   "mimetype": "text/x-python",
   "name": "python",
   "nbconvert_exporter": "python",
   "pygments_lexer": "ipython2",
   "version": "2.7.6"
  }
 },
 "nbformat": 4,
 "nbformat_minor": 0
}
