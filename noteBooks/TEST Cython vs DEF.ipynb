{
 "cells": [
  {
   "cell_type": "code",
   "execution_count": 1,
   "metadata": {},
   "outputs": [],
   "source": [
    "import sys\n",
    "sys.path.append('C:/Users/pauli/Dropbox/Python/OptionModels')\n",
    "sys.path.append('C:/Users/pauli/Dropbox/Python/OptionModels/Cython')\n",
    "#sys.path.append('C:/Users/pseoane/Dropbox/Python/OptionModels')\n",
    "#sys.path.append('C:/Users/pseoane/Dropbox/Python/OptionModels/Cython')\n",
    "sys.path.append('C:/Users/pauli/Documents/python/OptionModelsV3')\n"
   ]
  },
  {
   "cell_type": "code",
   "execution_count": 2,
   "metadata": {
    "collapsed": true
   },
   "outputs": [
    {
     "data": {
      "text/plain": [
       "(None, <pyximport.pyximport.PyxImporter at 0x1d799daab38>)"
      ]
     },
     "execution_count": 2,
     "metadata": {},
     "output_type": "execute_result"
    }
   ],
   "source": [
    "import pyximport, numpy\n",
    "pyximport.install(setup_args=dict(include_dirs=[numpy.get_include()]))"
   ]
  },
  {
   "cell_type": "code",
   "execution_count": 3,
   "metadata": {},
   "outputs": [],
   "source": [
    "from optionModelsCYTHON import jarrowCython as jrcy\n"
   ]
  },
  {
   "cell_type": "code",
   "execution_count": 4,
   "metadata": {},
   "outputs": [
    {
     "name": "stdout",
     "output_type": "stream",
     "text": [
      "Nombre de modelo: optionModelsClasses.cBinomJarrowRuddV2\n"
     ]
    }
   ],
   "source": [
    "from optionModelsClasses import cBinomJarrowRuddV2 as cJR"
   ]
  },
  {
   "cell_type": "code",
   "execution_count": 8,
   "metadata": {},
   "outputs": [],
   "source": [
    "a=jrcy.jarrowRuddCy(\"S\",100,100,365,0.3,0.03,-1,0.0,True,100,6,0)\n",
    "b=cJR.cBinomJRV2(\"S\",100,100,365,0.3,0.03,-1,0.0,True,100,0)"
   ]
  },
  {
   "cell_type": "code",
   "execution_count": 9,
   "metadata": {},
   "outputs": [
    {
     "name": "stdout",
     "output_type": "stream",
     "text": [
      "[ 1.06276824e+01 -4.17258584e-01  1.38108103e-02  3.90708307e-01\n -1.10030917e-02 -4.00356561e-01  3.00000000e-01  1.00000000e+02\n  0.00000000e+00  0.00000000e+00]\n"
     ]
    }
   ],
   "source": [
    "print(a)\n"
   ]
  },
  {
   "cell_type": "code",
   "execution_count": 10,
   "metadata": {},
   "outputs": [
    {
     "name": "stdout",
     "output_type": "stream",
     "text": [
      "[10.62768238 -0.41725858  0.01381081  0.39070831 -0.01100309 -0.40035656\n  0.          0.          0.          0.        ]\n"
     ]
    }
   ],
   "source": [
    "print(b.arr)"
   ]
  },
  {
   "cell_type": "code",
   "execution_count": 8,
   "metadata": {},
   "outputs": [
    {
     "name": "stdout",
     "output_type": "stream",
     "text": [
      "1000 loops, best of 5: 1.21 ms per loop\n"
     ]
    }
   ],
   "source": [
    "%timeit jrcy.jarrowRuddCy(\"S\",100,100,365,0.3,0.03,-1,0,True,100,6,0)"
   ]
  },
  {
   "cell_type": "code",
   "execution_count": 8,
   "metadata": {},
   "outputs": [
    {
     "name": "stdout",
     "output_type": "stream",
     "text": [
      "10 loops, best of 5: 107 ms per loop\n"
     ]
    }
   ],
   "source": [
    "%timeit cJR.cBinomJRV2(\"S\",100,100,365,0.3,0.03,-1,0,True,100,0)"
   ]
  },
  {
   "cell_type": "code",
   "execution_count": null,
   "metadata": {},
   "outputs": [],
   "source": []
  },
  {
   "cell_type": "code",
   "execution_count": 1,
   "metadata": {},
   "outputs": [],
   "source": []
  },
  {
   "cell_type": "code",
   "execution_count": null,
   "metadata": {},
   "outputs": [],
   "source": []
  },
  {
   "cell_type": "code",
   "execution_count": null,
   "metadata": {},
   "outputs": [],
   "source": []
  }
 ],
 "metadata": {
  "kernelspec": {
   "display_name": "Python 2",
   "language": "python",
   "name": "python2"
  },
  "language_info": {
   "codemirror_mode": {
    "name": "ipython",
    "version": 2
   },
   "file_extension": ".py",
   "mimetype": "text/x-python",
   "name": "python",
   "nbconvert_exporter": "python",
   "pygments_lexer": "ipython2",
   "version": "2.7.6"
  }
 },
 "nbformat": 4,
 "nbformat_minor": 0
}
