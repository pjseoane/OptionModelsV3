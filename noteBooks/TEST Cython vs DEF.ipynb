{
 "cells": [
  {
   "cell_type": "code",
   "execution_count": 1,
   "metadata": {
    "collapsed": true
   },
   "outputs": [
    {
     "data": {
      "text/plain": [
       "(None, <pyximport.pyximport.PyxImporter at 0x1816493ab70>)"
      ]
     },
     "execution_count": 1,
     "metadata": {},
     "output_type": "execute_result"
    }
   ],
   "source": [
    "import pyximport, numpy\n",
    "pyximport.install(setup_args=dict(include_dirs=[numpy.get_include()]))"
   ]
  },
  {
   "cell_type": "code",
   "execution_count": 2,
   "metadata": {},
   "outputs": [
    {
     "name": "stdout",
     "output_type": "stream",
     "text": [
      "('Nombre de modelo:', 'optionModelsCYTHON.jarrowCython')\n"
     ]
    }
   ],
   "source": [
    "from optionModelsCYTHON import jarrowCython as jrcy\n"
   ]
  },
  {
   "cell_type": "code",
   "execution_count": 3,
   "metadata": {},
   "outputs": [
    {
     "name": "stdout",
     "output_type": "stream",
     "text": [
      "Nombre de modelo: optionModelsClasses.cBinomJarrowRuddV2\n"
     ]
    }
   ],
   "source": [
    "from optionModelsClasses import cBinomJarrowRuddV2 as cJR"
   ]
  },
  {
   "cell_type": "code",
   "execution_count": 9,
   "metadata": {},
   "outputs": [],
   "source": [
    "a=jrcy.jarrowRuddCy(\"S\",102,100,365,0.3,0.03,-1,0,True,100,6,0)\n",
    "b=cJR.cBinomJRV2(\"S\",102,100,365,0.3,0.03,-1,0,True,100,0)"
   ]
  },
  {
   "cell_type": "code",
   "execution_count": 10,
   "metadata": {},
   "outputs": [
    {
     "name": "stdout",
     "output_type": "stream",
     "text": [
      "[ 9.79373526e+00 -3.90469968e-01  1.32695700e-02  3.79995879e-01\n -1.12993344e-02 -3.46744860e-01  3.00000000e-01  1.00000000e+02\n  0.00000000e+00  0.00000000e+00]\n"
     ]
    }
   ],
   "source": [
    "print(a)\n"
   ]
  },
  {
   "cell_type": "code",
   "execution_count": 11,
   "metadata": {},
   "outputs": [
    {
     "name": "stdout",
     "output_type": "stream",
     "text": [
      "[ 9.79373526 -0.39046997  0.01326957  0.37999588 -0.01129933 -0.34674486\n  0.          0.          0.          0.        ]\n"
     ]
    }
   ],
   "source": [
    "print(b.arr)"
   ]
  },
  {
   "cell_type": "code",
   "execution_count": 12,
   "metadata": {},
   "outputs": [
    {
     "name": "stdout",
     "output_type": "stream",
     "text": [
      "1000 loops, best of 5: 865 µs per loop\n"
     ]
    }
   ],
   "source": [
    "%timeit jrcy.jarrowRuddCy(\"S\",100,100,365,0.3,0.03,-1,0,True,100,6,0)"
   ]
  },
  {
   "cell_type": "code",
   "execution_count": 13,
   "metadata": {},
   "outputs": [
    {
     "name": "stdout",
     "output_type": "stream",
     "text": [
      "10 loops, best of 5: 101 ms per loop\n"
     ]
    }
   ],
   "source": [
    "%timeit cJR.cBinomJRV2(\"S\",100,100,365,0.3,0.03,-1,0,True,100,0)"
   ]
  },
  {
   "cell_type": "code",
   "execution_count": null,
   "metadata": {},
   "outputs": [],
   "source": []
  },
  {
   "cell_type": "code",
   "execution_count": 1,
   "metadata": {},
   "outputs": [],
   "source": []
  },
  {
   "cell_type": "code",
   "execution_count": null,
   "metadata": {},
   "outputs": [],
   "source": []
  },
  {
   "cell_type": "code",
   "execution_count": null,
   "metadata": {},
   "outputs": [],
   "source": []
  }
 ],
 "metadata": {
  "kernelspec": {
   "display_name": "Python 2",
   "language": "python",
   "name": "python2"
  },
  "language_info": {
   "codemirror_mode": {
    "name": "ipython",
    "version": 2
   },
   "file_extension": ".py",
   "mimetype": "text/x-python",
   "name": "python",
   "nbconvert_exporter": "python",
   "pygments_lexer": "ipython2",
   "version": "2.7.6"
  }
 },
 "nbformat": 4,
 "nbformat_minor": 0
}
