{
 "cells": [
  {
   "cell_type": "code",
   "execution_count": 1,
   "metadata": {},
   "outputs": [],
   "source": [
    "from math import sqrt, exp\n",
    "import pydotplus as pydot\n",
    "import numpy as np"
   ]
  },
  {
   "cell_type": "code",
   "execution_count": 18,
   "metadata": {},
   "outputs": [],
   "source": [
    "class cOpt(object):\n",
    "    def __init__(self, S0, K, rate, sigma, n_periods, tyears,cp):\n",
    "        self.S0 = S0 # Today's stock price\n",
    "        self.K = K # Strike Price\n",
    "        self.rate = rate\n",
    "        self.sigma = sigma\n",
    "        self.tyears = tyears\n",
    "        self.n_periods = n_periods\n",
    "        self.cp=cp\n",
    "        #Calcs\n",
    "        self.up_factor = exp(self.sigma * sqrt(self.tyears / self.n_periods))\n",
    "        self.down_factor = 1 / self.up_factor\n",
    "        self.tree = self.option_tree()\n",
    "        self.option_price = self.tree[\"option_tree\"][0][0]\n",
    "        \n",
    "        \n",
    "    def option_tree(self):\n",
    "        p = (np.exp(self.rate * self.tyears / self.n_periods) - self.down_factor) / (self.up_factor - self.down_factor)\n",
    "\n",
    "        # Option Payoff\n",
    "        contingent_payoff = lambda st, k,cp: max((st - k)*cp, 0)\n",
    "        contingent_payoff = np.vectorize(contingent_payoff)\n",
    "\n",
    "        # Creating the branches at different times of the tree. Each branch is the possible martingale price\n",
    "        # of the stock at time t\n",
    "        stock_price_tree = []\n",
    "        for i in range(1,self.n_periods+1):\n",
    "            # Number of prices per period\n",
    "            period_prices = []\n",
    "            for j in range(i+1):\n",
    "                up_factor_repeat = i-j\n",
    "                down_factor_repeat = j\n",
    "\n",
    "                values = np.append(np.repeat(self.up_factor, up_factor_repeat), \n",
    "                        np.repeat(self.down_factor, down_factor_repeat))\n",
    "                stock_price = values.prod() * self.S0\n",
    "                period_prices.append(stock_price)\n",
    "            stock_price_tree.append(period_prices)\n",
    "\n",
    "        # Getting the payoff of the call at the end of the tree\n",
    "        payoffs = contingent_payoff(stock_price_tree[self.n_periods-1], self.K,self.cp).tolist()\n",
    "\n",
    "        option_prices = [payoffs]\n",
    "        # Contingent option price at period n-1\n",
    "        branch_n = payoffs # brach at n-1\n",
    "\n",
    "        for t in range(self.n_periods):\n",
    "            branch_nm1 = []\n",
    "            for i in range(len(branch_n)-1):\n",
    "                #cu: Contingent price at time n if price rises\n",
    "                #cd: Contingent price at time n if price decreases\n",
    "                cu, cd = np.array(branch_n)[[i, i+1]]\n",
    "                price = np.exp(-self.rate * self.tyears / self.n_periods)*(p*cu + (1-p)*cd)\n",
    "                branch_nm1.append(price)\n",
    "            option_prices.append(branch_nm1)\n",
    "            branch_n = branch_nm1\n",
    "\n",
    "        option_prices = option_prices[::-1] \n",
    "        stock_price_tree.insert(0, [self.S0])\n",
    "\n",
    "        return {\"stock_tree\": stock_price_tree,\n",
    "                \"option_tree\": option_prices}\n",
    "    \n",
    "        \n",
    "    def graph_tree(self, file_name = \"\"):\n",
    "        option_prices = self.tree[\"option_tree\"]\n",
    "        stock_price_tree = self.tree[\"stock_tree\"]\n",
    "\n",
    "        graph = pydot.Dot(graph_type='digraph', rankdir='LR')\n",
    "\n",
    "        branch = 0\n",
    "        counter = 1\n",
    "        for i, prices in enumerate(option_prices[:-1]):\n",
    "            next_prices = option_prices[i+1]\n",
    "            for np, c_price in enumerate(prices):\n",
    "                c_price = str(round(c_price,2))\n",
    "\n",
    "                nprice1 = str(round(next_prices[np], 2))\n",
    "                nprice2 = str(round(next_prices[np+1], 2))\n",
    "\n",
    "                increment = len(prices)-1\n",
    "                from_branch, to_branch1, to_branch2 = branch, counter + increment, counter + increment + 1\n",
    "                #print(from_branch,\"->\",to_branch1, to_branch2)\n",
    "\n",
    "                up_price = round(stock_price_tree[i][np] * self.up_factor, 2)\n",
    "                down_price = round(stock_price_tree[i][np] * self.down_factor, 2)\n",
    "                edge = pydot.Edge(from_branch, to_branch1, label = str(up_price)); graph.add_edge(edge)\n",
    "                edge = pydot.Edge(from_branch, to_branch2, label = str(down_price)); graph.add_edge(edge)\n",
    "\n",
    "                node = pydot.Node(to_branch1, label = str(nprice1)); graph.add_node(node)\n",
    "                node = pydot.Node(to_branch2, label = str(nprice2)); graph.add_node(node)\n",
    "\n",
    "                counter += 1\n",
    "                branch += 1\n",
    "        \n",
    "        c0 = round(self.option_price, 2)\n",
    "        node = pydot.Node(\"0\", label = str(c0)); graph.add_node(node)\n",
    "        graph.write_png(file_name)"
   ]
  },
  {
   "cell_type": "code",
   "execution_count": 26,
   "metadata": {},
   "outputs": [],
   "source": [
    "option=cOpt(100,100,0.03,.30,100,1,1)"
   ]
  },
  {
   "cell_type": "code",
   "execution_count": 27,
   "metadata": {},
   "outputs": [
    {
     "name": "stdout",
     "output_type": "stream",
     "text": [
      "13.253838123630688\n"
     ]
    }
   ],
   "source": [
    "print(option.option_price)"
   ]
  },
  {
   "cell_type": "code",
   "execution_count": 28,
   "metadata": {},
   "outputs": [
    {
     "name": "stdout",
     "output_type": "stream",
     "text": [
      "1 loop, best of 3: 418 ms per loop\n"
     ]
    }
   ],
   "source": [
    "%timeit cOpt(100,100,0.03,.30,100,1,1)"
   ]
  },
  {
   "cell_type": "code",
   "execution_count": 13,
   "metadata": {},
   "outputs": [],
   "source": [
    "print(option.tree)"
   ]
  },
  {
   "cell_type": "code",
   "execution_count": 9,
   "metadata": {},
   "outputs": [],
   "source": [
    "option.graph_tree('option_tree.png')"
   ]
  },
  {
   "cell_type": "code",
   "execution_count": null,
   "metadata": {},
   "outputs": [],
   "source": []
  }
 ],
 "metadata": {
  "kernelspec": {
   "display_name": "Python 3",
   "language": "python",
   "name": "python3"
  },
  "language_info": {
   "codemirror_mode": {
    "name": "ipython",
    "version": 3
   },
   "file_extension": ".py",
   "mimetype": "text/x-python",
   "name": "python",
   "nbconvert_exporter": "python",
   "pygments_lexer": "ipython3",
   "version": "3.6.5"
  }
 },
 "nbformat": 4,
 "nbformat_minor": 2
}
