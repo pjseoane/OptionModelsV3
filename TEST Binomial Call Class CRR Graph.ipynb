{
 "cells": [
  {
   "cell_type": "code",
   "execution_count": 1,
   "metadata": {},
   "outputs": [],
   "source": [
    "from math import sqrt, exp\n",
    "import pydotplus as pydot\n",
    "import numpy as np"
   ]
  },
  {
   "cell_type": "code",
   "execution_count": 2,
   "metadata": {},
   "outputs": [],
   "source": [
    "class Call(object):\n",
    "    def __init__(self, S0, K, rate, sigma, n_periods, tyears):\n",
    "        self.S0 = S0 # Today's stock price\n",
    "        self.K = K # Strike Price\n",
    "        self.rate = rate\n",
    "        self.sigma = sigma\n",
    "        self.tyears = tyears\n",
    "        self.n_periods = n_periods\n",
    "        self.up_factor = exp(self.sigma * sqrt(self.tyears / self.n_periods))\n",
    "        self.down_factor = 1 / self.up_factor\n",
    "        self.tree = self.option_tree()\n",
    "        self.option_price = self.tree[\"option_tree\"][0][0]\n",
    "        \n",
    "    def option_tree(self):\n",
    "        p = (np.exp(self.rate * self.tyears / self.n_periods) - self.down_factor) / (self.up_factor - self.down_factor)\n",
    "\n",
    "        # Option Payoff\n",
    "        contingent_payoff = lambda st, k: max(st - k, 0)\n",
    "        contingent_payoff = np.vectorize(contingent_payoff)\n",
    "\n",
    "        # Creating the branches at different times of the tree. Each branch is the possible martingale price\n",
    "        # of the stock at time t\n",
    "        stock_price_tree = []\n",
    "        for i in range(1,self.n_periods+1):\n",
    "            # Number of prices per period\n",
    "            period_prices = []\n",
    "            for j in range(i+1):\n",
    "                up_factor_repeat = i-j\n",
    "                down_factor_repeat = j\n",
    "\n",
    "                values = np.append(np.repeat(self.up_factor, up_factor_repeat), \n",
    "                        np.repeat(self.down_factor, down_factor_repeat))\n",
    "                stock_price = values.prod() * self.S0\n",
    "                period_prices.append(stock_price)\n",
    "            stock_price_tree.append(period_prices)\n",
    "\n",
    "        # Getting the payoff of the call at the end of the tree\n",
    "        payoffs = contingent_payoff(stock_price_tree[self.n_periods-1], self.K).tolist()\n",
    "\n",
    "        option_prices = [payoffs]\n",
    "        # Contingent option price at period n-1\n",
    "        branch_n = payoffs # brach at n-1\n",
    "\n",
    "        for t in range(self.n_periods):\n",
    "            branch_nm1 = []\n",
    "            for i in range(len(branch_n)-1):\n",
    "                #cu: Contingent price at time n if price rises\n",
    "                #cd: Contingent price at time n if price decreases\n",
    "                cu, cd = np.array(branch_n)[[i, i+1]]\n",
    "                price = np.exp(-self.rate * self.tyears / self.n_periods)*(p*cu + (1-p)*cd)\n",
    "                branch_nm1.append(price)\n",
    "            option_prices.append(branch_nm1)\n",
    "            branch_n = branch_nm1\n",
    "\n",
    "        option_prices = option_prices[::-1] \n",
    "        stock_price_tree.insert(0, [self.S0])\n",
    "\n",
    "        return {\"stock_tree\": stock_price_tree,\n",
    "                \"option_tree\": option_prices}\n",
    "    \n",
    "        \n",
    "    def graph_tree(self, file_name = \"\"):\n",
    "        option_prices = self.tree[\"option_tree\"]\n",
    "        stock_price_tree = self.tree[\"stock_tree\"]\n",
    "\n",
    "        graph = pydot.Dot(graph_type='digraph', rankdir='LR')\n",
    "\n",
    "        branch = 0\n",
    "        counter = 1\n",
    "        for i, prices in enumerate(option_prices[:-1]):\n",
    "            next_prices = option_prices[i+1]\n",
    "            for np, c_price in enumerate(prices):\n",
    "                c_price = str(round(c_price,2))\n",
    "\n",
    "                nprice1 = str(round(next_prices[np], 2))\n",
    "                nprice2 = str(round(next_prices[np+1], 2))\n",
    "\n",
    "                increment = len(prices)-1\n",
    "                from_branch, to_branch1, to_branch2 = branch, counter + increment, counter + increment + 1\n",
    "                #print(from_branch,\"->\",to_branch1, to_branch2)\n",
    "\n",
    "                up_price = round(stock_price_tree[i][np] * self.up_factor, 2)\n",
    "                down_price = round(stock_price_tree[i][np] * self.down_factor, 2)\n",
    "                edge = pydot.Edge(from_branch, to_branch1, label = str(up_price)); graph.add_edge(edge)\n",
    "                edge = pydot.Edge(from_branch, to_branch2, label = str(down_price)); graph.add_edge(edge)\n",
    "\n",
    "                node = pydot.Node(to_branch1, label = str(nprice1)); graph.add_node(node)\n",
    "                node = pydot.Node(to_branch2, label = str(nprice2)); graph.add_node(node)\n",
    "\n",
    "                counter += 1\n",
    "                branch += 1\n",
    "        \n",
    "        c0 = round(self.option_price, 2)\n",
    "        node = pydot.Node(\"0\", label = str(c0)); graph.add_node(node)\n",
    "        graph.write_png(file_name)"
   ]
  },
  {
   "cell_type": "code",
   "execution_count": 6,
   "metadata": {},
   "outputs": [],
   "source": [
    "option=Call(102,100,0.03,.30,10,1)"
   ]
  },
  {
   "cell_type": "code",
   "execution_count": 7,
   "metadata": {},
   "outputs": [
    {
     "name": "stdout",
     "output_type": "stream",
     "text": [
      "14.423516531779894\n"
     ]
    }
   ],
   "source": [
    "print(option.option_price)"
   ]
  },
  {
   "cell_type": "code",
   "execution_count": 8,
   "metadata": {},
   "outputs": [
    {
     "name": "stdout",
     "output_type": "stream",
     "text": [
      "{'stock_tree': [[102], [112.15043538095134, 92.76825332563186], [123.31098192291121, 102.0, 84.37204730479026], [135.58215990105012, 112.15043538095136, 92.76825332563186, 76.73575939189195], [149.07449277247582, 123.31098192291121, 102.00000000000003, 84.37204730479026, 69.79061143531143], [163.90950263360438, 135.58215990105012, 112.15043538095136, 92.76825332563189, 76.73575939189195, 63.47405020962461], [180.22080473954824, 149.07449277247582, 123.31098192291121, 102.00000000000003, 84.37204730479029, 69.79061143531143, 57.72918401421894], [198.15531094358585, 163.90950263360438, 135.58215990105012, 112.15043538095136, 92.76825332563189, 76.73575939189196, 63.47405020962461, 52.50427026385371], [217.87455289579356, 180.22080473954827, 149.07449277247582, 123.31098192291121, 102.00000000000003, 84.37204730479029, 69.79061143531145, 57.72918401421894, 47.7522494560257], [239.55613691856234, 198.15531094358585, 163.9095026336044, 135.58215990105012, 112.15043538095136, 92.76825332563189, 76.73575939189196, 63.47405020962463, 52.50427026385371, 43.430321317699594], [263.3953436627016, 217.87455289579356, 180.22080473954827, 149.07449277247585, 123.31098192291121, 102.00000000000003, 84.37204730479029, 69.79061143531145, 57.72918401421896, 47.7522494560257, 39.49955931386221]], 'option_tree': [[14.423516531779894], [20.583869216182386, 8.539839318824018], [28.652988839130664, 12.88715714933447, 4.378075192968698], [38.82292824988233, 18.96844620325875, 7.070999105830637, 1.794697155740074], [51.12183579359955, 27.13570881939903, 11.167083290598823, 3.1439757080891075, 0.49794623569247903], [65.39830867329815, 37.59123385337674, 17.165475561405486, 5.421071708442773, 0.9562087540594726, 0.0568637838365859], [81.41363345335523, 50.267321486282796, 25.531263841197948, 9.161087707759204, 1.8292959938335998, 0.11589764285049095, 0.0], [99.0512730662975, 64.80546475631604, 36.47812202376178, 15.07546764572403, 3.484612063260696, 0.23621825197038154, 0.0, 0.0], [118.47275649040004, 80.81900833415474, 49.67269636708232, 23.909185517517706, 6.60532102190401, 0.4814512287874912, 0.0, 0.0, 0.0], [139.85568736822506, 98.45486139324855, 64.20905308326711, 35.881710350712844, 12.449985830614066, 0.9812759334534787, 0.0, 0.0, 0.0, 0.0], [163.39534366270158, 117.87455289579356, 80.22080473954827, 49.07449277247585, 23.31098192291121, 2.0000000000000284, 0.0, 0.0, 0.0, 0.0, 0.0]]}\n"
     ]
    }
   ],
   "source": [
    "print(option.tree)"
   ]
  },
  {
   "cell_type": "code",
   "execution_count": 9,
   "metadata": {},
   "outputs": [],
   "source": [
    "option.graph_tree('option_tree.png')"
   ]
  },
  {
   "cell_type": "code",
   "execution_count": null,
   "metadata": {},
   "outputs": [],
   "source": []
  }
 ],
 "metadata": {
  "kernelspec": {
   "display_name": "Python 3",
   "language": "python",
   "name": "python3"
  },
  "language_info": {
   "codemirror_mode": {
    "name": "ipython",
    "version": 3
   },
   "file_extension": ".py",
   "mimetype": "text/x-python",
   "name": "python",
   "nbconvert_exporter": "python",
   "pygments_lexer": "ipython3",
   "version": "3.6.5"
  }
 },
 "nbformat": 4,
 "nbformat_minor": 2
}
