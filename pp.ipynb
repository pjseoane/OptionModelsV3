{
 "cells": [
  {
   "cell_type": "code",
   "execution_count": 1,
   "metadata": {
    "collapsed": true
   },
   "outputs": [],
   "source": [
    "import sys\n",
    "sys.path.append('C:/Users/pauli/Dropbox/Python/OptionModels')\n",
    "sys.path.append('C:/Users/pauli/Dropbox/Python/OptionModels/Cython')\n",
    "sys.path.append('C:/Users/pseoane/Dropbox/Python/OptionModels')\n",
    "sys.path.append('C:/Users/pseoane/Dropbox/Python/OptionModels/Cython')\n",
    "sys.path.append('C:/Users/pseoane/Documents/Python Projects/OptionModels')\n",
    "sys.path.append('C:/Users/pauli/Documents/python/OptionsModelsV3')"
   ]
  },
  {
   "cell_type": "code",
   "execution_count": null,
   "metadata": {},
   "outputs": [],
   "source": []
  }
 ],
 "metadata": {
  "kernelspec": {
   "display_name": "Python 2",
   "language": "python",
   "name": "python2"
  },
  "language_info": {
   "codemirror_mode": {
    "name": "ipython",
    "version": 2
   },
   "file_extension": ".py",
   "mimetype": "text/x-python",
   "name": "python",
   "nbconvert_exporter": "python",
   "pygments_lexer": "ipython2",
   "version": "2.7.6"
  }
 },
 "nbformat": 4,
 "nbformat_minor": 0
}
